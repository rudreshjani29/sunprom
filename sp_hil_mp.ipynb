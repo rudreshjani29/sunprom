{
 "cells": [
  {
   "cell_type": "code",
   "execution_count": 8,
   "metadata": {},
   "outputs": [
    {
     "name": "stdout",
     "output_type": "stream",
     "text": [
      "\n",
      "Predictions Table (Last 10 Rows):\n",
      " Temp      Irr  Hum  Predicted_Revenue  Predicted_Generation\n",
      " 25.6 0.111083 51.7       13065.613281           3941.745850\n",
      " 60.0 0.111083 51.6       11651.705078           3551.248535\n",
      " 25.7 0.125000 52.8       13128.569336           3881.496582\n",
      " 25.7 0.090250 52.6       13128.569336           3881.496582\n",
      " 25.6 0.111083 51.7       13065.613281           3941.745850\n",
      " 25.7 0.125000 52.8       13128.569336           3881.496582\n",
      " 25.6 0.111083 51.7       13065.613281           3941.745850\n",
      " 60.0 0.111083 51.6       11651.705078           3551.248535\n",
      " 25.7 0.125000 52.8       13128.569336           3881.496582\n",
      " 25.7 0.090250 52.6       13128.569336           3881.496582\n"
     ]
    }
   ],
   "source": [
    "import pandas as pd\n",
    "import numpy as np\n",
    "import joblib\n",
    "from sklearn.model_selection import train_test_split\n",
    "from sklearn.preprocessing import PolynomialFeatures\n",
    "from xgboost import XGBRegressor\n",
    "from sklearn.utils import resample\n",
    "\n",
    "dx = pd.read_csv('sensor_data.csv')\n",
    "\n",
    "dx['Temp'] = pd.to_numeric(dx['Temp'], errors='coerce')\n",
    "dx['Hum'] = pd.to_numeric(dx['Hum'], errors='coerce')\n",
    "dx['Irr'] = pd.to_numeric(dx['Irr'], errors='coerce')\n",
    "\n",
    "dx[['Temp', 'Irr', 'Hum']] = dx[['Temp', 'Irr', 'Hum']].fillna(dx[['Temp', 'Irr', 'Hum']].mean())\n",
    "dx['Irr'] = dx['Irr'] / 120  # Approximate conversion from lux to irradiance\n",
    "\n",
    "dx['Dew_Point'] = dx['Temp'] - ((100 - dx['Hum']) / 5)\n",
    "dx['Temp_Irr_Interaction'] = dx['Temp'] * dx['Irr']\n",
    "dx['Irr_Rolling_Mean'] = dx['Irr'].rolling(window=3, min_periods=1).mean()\n",
    "\n",
    "poly = PolynomialFeatures(degree=2, include_bias=False)\n",
    "poly_features = poly.fit_transform(dx[['Temp', 'Irr', 'Hum']])\n",
    "poly_columns = [f'poly_{i}' for i in range(poly_features.shape[1])]\n",
    "dx[poly_columns] = poly_features\n",
    "\n",
    "synthetic_data = resample(dx, replace=True, n_samples=1000, random_state=42)\n",
    "dx = pd.concat([dx, synthetic_data])\n",
    "\n",
    "X = dx[['Temp', 'Irr', 'Hum', 'Dew_Point', 'Temp_Irr_Interaction', 'Irr_Rolling_Mean'] + poly_columns]\n",
    "X_train, X_test = train_test_split(X, test_size=0.2, random_state=42)\n",
    "\n",
    "rev_model = joblib.load(\"solar_revenue_model.pkl\")\n",
    "gen_model = joblib.load(\"solar_generation_model.pkl\")\n",
    "\n",
    "y_pred_rev = rev_model.predict(X_test)\n",
    "y_pred_rev = np.expm1(y_pred_rev)  # Reverse log transformation\n",
    "y_pred_gen = gen_model.predict(X_test)\n",
    "\n",
    "predictions_df = X_test.copy()\n",
    "predictions_df['Predicted_Revenue'] = y_pred_rev\n",
    "predictions_df['Predicted_Generation'] = y_pred_gen\n",
    "\n",
    "print(\"\\nPredictions Table (Last 10 Rows):\")\n",
    "print(predictions_df[['Temp', 'Irr', 'Hum', 'Predicted_Revenue', 'Predicted_Generation']].tail(10).to_string(index=False))\n"
   ]
  },
  {
   "cell_type": "code",
   "execution_count": null,
   "metadata": {},
   "outputs": [],
   "source": []
  }
 ],
 "metadata": {
  "kernelspec": {
   "display_name": "Python 3",
   "language": "python",
   "name": "python3"
  },
  "language_info": {
   "codemirror_mode": {
    "name": "ipython",
    "version": 3
   },
   "file_extension": ".py",
   "mimetype": "text/x-python",
   "name": "python",
   "nbconvert_exporter": "python",
   "pygments_lexer": "ipython3",
   "version": "3.12.2"
  }
 },
 "nbformat": 4,
 "nbformat_minor": 2
}
